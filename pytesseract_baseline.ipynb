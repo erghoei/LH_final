{
 "cells": [
  {
   "cell_type": "code",
   "execution_count": 60,
   "metadata": {},
   "outputs": [],
   "source": [
    "# import libraries\n",
    "import os\n",
    "import random\n",
    "from PIL import Image\n",
    "import cv2\n",
    "import itertools\n",
    "import pytesseract\n",
    "import pandas as pd\n",
    "from difflib import SequenceMatcher # this is the evaluation metric used here for tesseract"
   ]
  },
  {
   "cell_type": "code",
   "execution_count": 13,
   "metadata": {},
   "outputs": [],
   "source": [
    "# create dataframe\n",
    "df = pd.read_csv('dataset/memes_data.tsv', sep='\\t')\n",
    "df1 = df.drop_duplicates(subset=['HashId'])\n",
    "\n",
    "# set variables to pull images from\n",
    "path = 'D:/lh_final_data_images/'\n",
    "files = os.listdir(path)"
   ]
  },
  {
   "cell_type": "code",
   "execution_count": 160,
   "metadata": {},
   "outputs": [],
   "source": [
    "# define a function to score similarity between the pytesseract's generated text and the true label.\n",
    "def similar(a, b):\n",
    "    return SequenceMatcher(None, a, b).ratio()"
   ]
  },
  {
   "cell_type": "code",
   "execution_count": 155,
   "metadata": {},
   "outputs": [],
   "source": [
    "def test_pytess():\n",
    "    '''\n",
    "    Returns the average similar score of randomly chosen images from the dataset\n",
    "        \n",
    "        Parameters:\n",
    "            None\n",
    "            \n",
    "        Returns:\n",
    "            Average of similar score\n",
    "    '''\n",
    "    emp_list = []\n",
    "    m = 0\n",
    "    for i in range(1000):\n",
    "        try:\n",
    "            r = random.choice(files)\n",
    "            img = cv2.imread(f'D:/lh_final_data_images/{r}')\n",
    "            n = int(''.join(filter(str.isdigit, r)))\n",
    "            a = pytesseract.image_to_string(img)\n",
    "            b = df1['CaptionText'].loc[n]\n",
    "            x = similar(a, b)\n",
    "            emp_list.append(x)\n",
    "        except:\n",
    "            print('Bad file, subtracting one from sample')\n",
    "            m += 1\n",
    "    return sum(emp_list) / (1000 - m)"
   ]
  },
  {
   "cell_type": "code",
   "execution_count": 156,
   "metadata": {},
   "outputs": [
    {
     "name": "stdout",
     "output_type": "stream",
     "text": [
      "Bad file, subtracting one from sample\n",
      "Bad file, subtracting one from sample\n"
     ]
    },
    {
     "data": {
      "text/plain": [
       "0.45977869048566034"
      ]
     },
     "execution_count": 156,
     "metadata": {},
     "output_type": "execute_result"
    }
   ],
   "source": [
    "test_pytess()"
   ]
  },
  {
   "cell_type": "markdown",
   "metadata": {},
   "source": [
    "From a sample size of 1000 randomly selected images, the average similarity score is approximately 0.46.\n",
    "\n",
    "Multiple tests show the average rating to hover between 0.43-0.48"
   ]
  },
  {
   "cell_type": "code",
   "execution_count": null,
   "metadata": {},
   "outputs": [],
   "source": []
  }
 ],
 "metadata": {
  "kernelspec": {
   "display_name": "Python 3",
   "language": "python",
   "name": "python3"
  },
  "language_info": {
   "codemirror_mode": {
    "name": "ipython",
    "version": 3
   },
   "file_extension": ".py",
   "mimetype": "text/x-python",
   "name": "python",
   "nbconvert_exporter": "python",
   "pygments_lexer": "ipython3",
   "version": "3.8.5"
  }
 },
 "nbformat": 4,
 "nbformat_minor": 4
}
